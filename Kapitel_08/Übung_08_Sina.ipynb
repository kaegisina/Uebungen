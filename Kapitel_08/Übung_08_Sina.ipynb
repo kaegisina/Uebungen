{
 "cells": [
  {
   "attachments": {},
   "cell_type": "markdown",
   "metadata": {},
   "source": [
    "## Übung 8\n",
    "### Aufgabe 1\n",
    "\n",
    "Mit der numpy Funktion np.poly1d kann ein Polynom erstellt werden. \n",
    "\n",
    "Als Parameter werden die Koeffizienten in einer Liste definiert, dessen Länge definiert also den Grad.\n",
    "\n",
    "Beispiele:\n",
    "\n",
    "np.poly1d([7,3]) 𝑓(𝑥) = 7𝑥 + 3\n",
    "\n",
    "np.poly1d([2,3,4]) 𝑓(𝑥) = 2𝑥! + 3𝑥 + 4\n",
    "\n",
    "\n",
    "Das Resultat kann direkt geplottet werden, Beispiel:\n",
    "\n",
    "import matplotlib.pyplot as plt\n",
    "\n",
    "import numpy as np\n",
    "\n",
    "f = np.poly1d([2,3,4])\n",
    "\n",
    "x = np.linspace(0,10,30)\n",
    "\n",
    "y = f(x)\n",
    "\n",
    "plt.plot(x,y,'ko-')\n",
    "\n",
    "plt.show()\n",
    "\n",
    "\n",
    "Erstellen Sie mit PyQt5 ein geeignetes GUI um\n",
    "\n",
    "a) Allgemeine Polynome n-ten Grades einzugeben und darzustellen.\n",
    "\n",
    "Tipp: Für die Koeffizienten könnte z.B. ein QLineEdit verwendet werden und die\n",
    "\n",
    "Daten kommagetrennt eingetippt. Überprüfen Sie Eingaben auf Fehler.\n",
    "\n",
    "\n",
    "b) Im GUI soll der Wertebereich und die Anzahl dargestellter Punkte definiert\n",
    "\n",
    "werden können. Verwenden Sie dazu geeignete Widgets.\n",
    "\n",
    "\n",
    "c) Die Farbe des Plots soll ausgewählt werden können. Verwenden Sie dazu ein\n",
    "\n",
    "geeignetes Widget, z.B. eine QComboBox\n",
    "\n",
    "(Qt-Designer kann verwendet werden, muss aber nicht)"
   ]
  },
  {
   "cell_type": "code",
   "execution_count": null,
   "metadata": {
    "vscode": {
     "languageId": "plaintext"
    }
   },
   "outputs": [],
   "source": []
  }
 ],
 "metadata": {
  "language_info": {
   "name": "python"
  },
  "orig_nbformat": 4
 },
 "nbformat": 4,
 "nbformat_minor": 2
}
