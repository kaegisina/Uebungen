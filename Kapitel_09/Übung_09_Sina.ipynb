{
 "cells": [
  {
   "attachments": {},
   "cell_type": "markdown",
   "metadata": {},
   "source": [
    "## übung 9\n",
    "### Aufgabe 1\n",
    "\n",
    "Gegeben sind folgende Objekte als WKT:\n",
    "\n",
    "POINT(0 0)\n",
    "\n",
    "LINESTRING(0 0,1 1,1 2)\n",
    "\n",
    "POLYGON((0 0,4 0,4 4,0 4,0 0),(1 1, 2 1, 2 2, 1 2,1 1))\n",
    "\n",
    "MULTIPOINT(0 0,1 2)\n",
    "\n",
    "MULTILINESTRING((0 0,1 1,1 2),(2 3,3 2,5 4))\n",
    "\n",
    "MULTIPOLYGON(((0 0,4 0,4 4,0 4,0 0),(1 1,2 1,2 2,1 2,1 1)),((-1 -1,-1 -2,-2, -2,-2 -1,-1 -1)))\n",
    "\n",
    "GEOMETRYCOLLECTION(POINT(2 3),LINESTRING((2 3,3 4)))\n",
    "\n",
    "a) Berechnen Sie die Fläche der Objekte (wenn sinnvoll)\n",
    "\n",
    "b) Berechnen Sie die Länge der Objekte (wenn sinnvoll)\n",
    "\n",
    "c) Stellen Sie diese mit shapely / matplotlib / ev. descartes dar.\n",
    "\n",
    "Hinweise: (aus der Dokumentation https://shapely.readthedocs.io/en/stable/manual.html)\n",
    "\n",
    "Die Fläche lässt sich mit „object.area“ berechnen\n",
    "\n",
    "Die Länge lässt sich mit „object.length“ berechnen\n",
    "\n",
    "Den Geometry-Typ können Sie in Shapely mit „object.geom_type“ abfragen.\n",
    "\n",
    "\n",
    "\n",
    "### Aufgabe 2\n",
    "\n",
    "Gegeben ist ein Polygon bestehend aus einem Quadrat mit einem Loch in Form eines\n",
    "\n",
    "Kreuzes. Das Polygon kann als WKT geschrieben werden als:\n",
    "\n",
    "POLYGON ((-5 -5, -5 5, 5 5, 5 -5, -5 -5), (1 -1, 4 -1, 4 1, 1, 1, 1 4, -1 4, -1 1, -4 1, -4 -1, -1 -1, -1 -4, 1 -4, 1 -1))\n",
    "\n",
    "Triangulieren Sie dieses Polygon mit der Einschränkung, dass das Kreuz als Loch erhalten bleibt.\n",
    "\n"
   ]
  }
 ],
 "metadata": {
  "language_info": {
   "name": "python"
  },
  "orig_nbformat": 4
 },
 "nbformat": 4,
 "nbformat_minor": 2
}
